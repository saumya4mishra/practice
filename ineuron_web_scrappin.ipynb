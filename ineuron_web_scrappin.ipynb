{
 "cells": [
  {
   "cell_type": "code",
   "execution_count": 1,
   "id": "94497ce1",
   "metadata": {},
   "outputs": [],
   "source": [
    "driver_path = r\"C:\\Users\\SAMA1383\\chromedriver.exe\""
   ]
  },
  {
   "cell_type": "code",
   "execution_count": 2,
   "id": "cf2205f3",
   "metadata": {},
   "outputs": [
    {
     "name": "stdout",
     "output_type": "stream",
     "text": [
      "Requirement already satisfied: selenium in c:\\programdata\\anaconda3\\lib\\site-packages (4.1.3)\n",
      "Requirement already satisfied: trio-websocket~=0.9 in c:\\programdata\\anaconda3\\lib\\site-packages (from selenium) (0.9.2)\n",
      "Requirement already satisfied: urllib3[secure,socks]~=1.26 in c:\\programdata\\anaconda3\\lib\\site-packages (from selenium) (1.26.7)\n",
      "Requirement already satisfied: trio~=0.17 in c:\\programdata\\anaconda3\\lib\\site-packages (from selenium) (0.20.0)\n",
      "Requirement already satisfied: outcome in c:\\programdata\\anaconda3\\lib\\site-packages (from trio~=0.17->selenium) (1.1.0)\n",
      "Requirement already satisfied: sniffio in c:\\programdata\\anaconda3\\lib\\site-packages (from trio~=0.17->selenium) (1.2.0)\n",
      "Requirement already satisfied: async-generator>=1.9 in c:\\programdata\\anaconda3\\lib\\site-packages (from trio~=0.17->selenium) (1.10)\n",
      "Requirement already satisfied: cffi>=1.14 in c:\\programdata\\anaconda3\\lib\\site-packages (from trio~=0.17->selenium) (1.14.6)\n",
      "Requirement already satisfied: sortedcontainers in c:\\programdata\\anaconda3\\lib\\site-packages (from trio~=0.17->selenium) (2.4.0)\n",
      "Requirement already satisfied: idna in c:\\programdata\\anaconda3\\lib\\site-packages (from trio~=0.17->selenium) (3.2)\n",
      "Requirement already satisfied: attrs>=19.2.0 in c:\\programdata\\anaconda3\\lib\\site-packages (from trio~=0.17->selenium) (21.2.0)\n",
      "Requirement already satisfied: pycparser in c:\\programdata\\anaconda3\\lib\\site-packages (from cffi>=1.14->trio~=0.17->selenium) (2.20)\n",
      "Requirement already satisfied: wsproto>=0.14 in c:\\programdata\\anaconda3\\lib\\site-packages (from trio-websocket~=0.9->selenium) (1.1.0)\n",
      "Requirement already satisfied: pyOpenSSL>=0.14 in c:\\programdata\\anaconda3\\lib\\site-packages (from urllib3[secure,socks]~=1.26->selenium) (21.0.0)\n",
      "Requirement already satisfied: cryptography>=1.3.4 in c:\\programdata\\anaconda3\\lib\\site-packages (from urllib3[secure,socks]~=1.26->selenium) (3.4.8)\n",
      "Requirement already satisfied: certifi in c:\\programdata\\anaconda3\\lib\\site-packages (from urllib3[secure,socks]~=1.26->selenium) (2021.10.8)\n",
      "Requirement already satisfied: PySocks!=1.5.7,<2.0,>=1.5.6 in c:\\programdata\\anaconda3\\lib\\site-packages (from urllib3[secure,socks]~=1.26->selenium) (1.7.1)\n",
      "Requirement already satisfied: six>=1.5.2 in c:\\programdata\\anaconda3\\lib\\site-packages (from pyOpenSSL>=0.14->urllib3[secure,socks]~=1.26->selenium) (1.16.0)\n",
      "Requirement already satisfied: h11<1,>=0.9.0 in c:\\programdata\\anaconda3\\lib\\site-packages (from wsproto>=0.14->trio-websocket~=0.9->selenium) (0.13.0)\n",
      "Note: you may need to restart the kernel to use updated packages.\n"
     ]
    }
   ],
   "source": [
    "pip install selenium"
   ]
  },
  {
   "cell_type": "code",
   "execution_count": 55,
   "id": "07dda30d",
   "metadata": {},
   "outputs": [],
   "source": [
    "from selenium import webdriver\n",
    "import time "
   ]
  },
  {
   "cell_type": "code",
   "execution_count": 56,
   "id": "72364556",
   "metadata": {},
   "outputs": [
    {
     "name": "stderr",
     "output_type": "stream",
     "text": [
      "C:\\Users\\SAMA1383\\AppData\\Local\\Temp/ipykernel_7520/2759875411.py:1: DeprecationWarning: executable_path has been deprecated, please pass in a Service object\n",
      "  driver = webdriver.Chrome(executable_path=driver_path)\n"
     ]
    }
   ],
   "source": [
    "driver = webdriver.Chrome(executable_path=driver_path)"
   ]
  },
  {
   "cell_type": "code",
   "execution_count": 57,
   "id": "d1c3e4ca",
   "metadata": {},
   "outputs": [],
   "source": [
    "driver.get('https://ineuron.ai/')"
   ]
  },
  {
   "cell_type": "code",
   "execution_count": 58,
   "id": "4d8fd720",
   "metadata": {},
   "outputs": [
    {
     "name": "stderr",
     "output_type": "stream",
     "text": [
      "C:\\Users\\SAMA1383\\AppData\\Local\\Temp/ipykernel_7520/3018498654.py:2: DeprecationWarning: find_element_by_class_name is deprecated. Please use find_element(by=By.CLASS_NAME, value=name) instead\n",
      "  popup = driver.find_element_by_class_name('modal-content-header')\n"
     ]
    }
   ],
   "source": [
    "time.sleep(5)\n",
    "popup = driver.find_element_by_class_name('modal-content-header')"
   ]
  },
  {
   "cell_type": "code",
   "execution_count": 59,
   "id": "5df2a00e",
   "metadata": {},
   "outputs": [
    {
     "name": "stderr",
     "output_type": "stream",
     "text": [
      "C:\\ProgramData\\Anaconda3\\lib\\site-packages\\selenium\\webdriver\\remote\\webelement.py:484: UserWarning: find_element_by_css_selector is deprecated. Please use find_element(by=By.CSS_SELECTOR, value=css_selector) instead\n",
      "  warnings.warn(\"find_element_by_css_selector is deprecated. Please use find_element(by=By.CSS_SELECTOR, value=css_selector) instead\")\n"
     ]
    }
   ],
   "source": [
    "\n",
    "cross = popup.find_element_by_css_selector('i')\n"
   ]
  },
  {
   "cell_type": "code",
   "execution_count": 60,
   "id": "060c9c4e",
   "metadata": {},
   "outputs": [],
   "source": [
    "cross.click()\n",
    "time.sleep(0.5)"
   ]
  },
  {
   "cell_type": "code",
   "execution_count": 61,
   "id": "edadbd2b",
   "metadata": {},
   "outputs": [
    {
     "name": "stderr",
     "output_type": "stream",
     "text": [
      "C:\\Users\\SAMA1383\\AppData\\Local\\Temp/ipykernel_7520/1965589948.py:1: DeprecationWarning: find_element_by_class_name is deprecated. Please use find_element(by=By.CLASS_NAME, value=name) instead\n",
      "  start_class = driver.find_element_by_class_name('hamburger')\n"
     ]
    }
   ],
   "source": [
    "start_class = driver.find_element_by_class_name('hamburger')"
   ]
  },
  {
   "cell_type": "code",
   "execution_count": 62,
   "id": "4b1b3a63",
   "metadata": {},
   "outputs": [],
   "source": [
    "start_clk = start_class.find_element_by_css_selector('img')"
   ]
  },
  {
   "cell_type": "code",
   "execution_count": 63,
   "id": "d791cdef",
   "metadata": {},
   "outputs": [],
   "source": [
    "start_clk.click()"
   ]
  },
  {
   "cell_type": "code",
   "execution_count": 64,
   "id": "aa111626",
   "metadata": {},
   "outputs": [
    {
     "name": "stderr",
     "output_type": "stream",
     "text": [
      "C:\\Users\\SAMA1383\\AppData\\Local\\Temp/ipykernel_7520/302382220.py:1: DeprecationWarning: find_element_by_class_name is deprecated. Please use find_element(by=By.CLASS_NAME, value=name) instead\n",
      "  sidebar_class = driver.find_element_by_class_name('sidebar-content')\n"
     ]
    }
   ],
   "source": [
    "sidebar_class = driver.find_element_by_class_name('sidebar-content')"
   ]
  },
  {
   "cell_type": "code",
   "execution_count": 65,
   "id": "7bcf0068",
   "metadata": {},
   "outputs": [
    {
     "name": "stderr",
     "output_type": "stream",
     "text": [
      "C:\\ProgramData\\Anaconda3\\lib\\site-packages\\selenium\\webdriver\\remote\\webelement.py:502: UserWarning: find_elements_by_css_selector is deprecated. Please use find_elements(by=By.CSS_SELECTOR, value=css_selector) instead\n",
      "  warnings.warn(\"find_elements_by_css_selector is deprecated. Please use find_elements(by=By.CSS_SELECTOR, value=css_selector) instead\")\n"
     ]
    }
   ],
   "source": [
    "sidebar_click = sidebar_class.find_elements_by_css_selector('li')"
   ]
  },
  {
   "cell_type": "code",
   "execution_count": 66,
   "id": "3e318445",
   "metadata": {},
   "outputs": [
    {
     "data": {
      "text/plain": [
       "[<selenium.webdriver.remote.webelement.WebElement (session=\"6ed892bba8a53fe1965681fc9419de07\", element=\"3cf25fb5-be35-4c17-b4aa-7f881654791d\")>,\n",
       " <selenium.webdriver.remote.webelement.WebElement (session=\"6ed892bba8a53fe1965681fc9419de07\", element=\"0527948e-6dae-468e-a48b-99304c7181d7\")>,\n",
       " <selenium.webdriver.remote.webelement.WebElement (session=\"6ed892bba8a53fe1965681fc9419de07\", element=\"0db02c58-4a0f-40f5-94fb-16f23e5dddf4\")>,\n",
       " <selenium.webdriver.remote.webelement.WebElement (session=\"6ed892bba8a53fe1965681fc9419de07\", element=\"e5a86a78-2218-452d-b6af-b6eb335274e8\")>,\n",
       " <selenium.webdriver.remote.webelement.WebElement (session=\"6ed892bba8a53fe1965681fc9419de07\", element=\"8347f0e5-ce0c-41a3-9576-e9d2819f0322\")>]"
      ]
     },
     "execution_count": 66,
     "metadata": {},
     "output_type": "execute_result"
    }
   ],
   "source": [
    "sidebar_click"
   ]
  },
  {
   "cell_type": "code",
   "execution_count": 67,
   "id": "4dfea477",
   "metadata": {},
   "outputs": [],
   "source": [
    "for e_li in sidebar_click:\n",
    "    if e_li.text == 'Courses':\n",
    "        e_li.click()"
   ]
  },
  {
   "cell_type": "code",
   "execution_count": 68,
   "id": "6a3a402d",
   "metadata": {},
   "outputs": [
    {
     "name": "stderr",
     "output_type": "stream",
     "text": [
      "C:\\Users\\SAMA1383\\AppData\\Local\\Temp/ipykernel_7520/1576302343.py:1: DeprecationWarning: find_elements_by_class_name is deprecated. Please use find_elements(by=By.CLASS_NAME, value=name) instead\n",
      "  l_sidebars = driver.find_elements_by_class_name('sidebar-content')\n"
     ]
    }
   ],
   "source": [
    "l_sidebars = driver.find_elements_by_class_name('sidebar-content')"
   ]
  },
  {
   "cell_type": "code",
   "execution_count": 69,
   "id": "cb6cbd1b",
   "metadata": {},
   "outputs": [],
   "source": [
    "l_li = l_sidebars[-1].find_elements_by_css_selector('li')\n",
    "d_li = {e_li.text: e_li for e_li in l_li}"
   ]
  },
  {
   "cell_type": "code",
   "execution_count": 70,
   "id": "3d6ba694",
   "metadata": {},
   "outputs": [
    {
     "data": {
      "text/plain": [
       "{'Data Science': <selenium.webdriver.remote.webelement.WebElement (session=\"6ed892bba8a53fe1965681fc9419de07\", element=\"0b517c93-da05-431f-b606-cf954c098942\")>,\n",
       " 'Development': <selenium.webdriver.remote.webelement.WebElement (session=\"6ed892bba8a53fe1965681fc9419de07\", element=\"5d9359c8-83d8-4b07-b737-a5ed18a8db25\")>,\n",
       " 'Cloud': <selenium.webdriver.remote.webelement.WebElement (session=\"6ed892bba8a53fe1965681fc9419de07\", element=\"dfd2bc4e-b3cf-4dd4-a2cc-f6a413304633\")>,\n",
       " 'Devops': <selenium.webdriver.remote.webelement.WebElement (session=\"6ed892bba8a53fe1965681fc9419de07\", element=\"df4c5986-75b2-430f-87b2-fa3caeca0446\")>,\n",
       " 'Programming': <selenium.webdriver.remote.webelement.WebElement (session=\"6ed892bba8a53fe1965681fc9419de07\", element=\"4a65b0ac-896f-4e69-a386-d0d3ab038520\")>,\n",
       " 'Marketing': <selenium.webdriver.remote.webelement.WebElement (session=\"6ed892bba8a53fe1965681fc9419de07\", element=\"d93718f1-8b51-45d2-b28a-5ab76ca2a361\")>,\n",
       " 'Teaching & Academics': <selenium.webdriver.remote.webelement.WebElement (session=\"6ed892bba8a53fe1965681fc9419de07\", element=\"7d22dae8-3823-434d-b1a6-d8c3377dc0de\")>,\n",
       " 'Kids': <selenium.webdriver.remote.webelement.WebElement (session=\"6ed892bba8a53fe1965681fc9419de07\", element=\"4cc85128-bc00-4f12-b9f2-d9dc47b667d5\")>,\n",
       " 'Community Courses': <selenium.webdriver.remote.webelement.WebElement (session=\"6ed892bba8a53fe1965681fc9419de07\", element=\"f4c376b9-f80f-4b06-8aec-eb0f943c2e84\")>,\n",
       " 'Salesforce': <selenium.webdriver.remote.webelement.WebElement (session=\"6ed892bba8a53fe1965681fc9419de07\", element=\"327a6be7-b897-4c0e-bc55-95998c97d272\")>}"
      ]
     },
     "execution_count": 70,
     "metadata": {},
     "output_type": "execute_result"
    }
   ],
   "source": [
    "d_li"
   ]
  },
  {
   "cell_type": "code",
   "execution_count": 71,
   "id": "23d7daf8",
   "metadata": {},
   "outputs": [],
   "source": [
    "import time \n",
    "def back(driver):\n",
    "    \n",
    "    sidebar = driver.find_elements_by_class_name('sidebar-header')[-1]\n",
    "  \n",
    "    back_class = sidebar.find_element_by_class_name('back')\n",
    "   \n",
    "    back_btn = back_class.find_element_by_css_selector('i')\n",
    "    back_btn.click()\n",
    "    time.sleep(0.5)\n",
    "       "
   ]
  },
  {
   "cell_type": "code",
   "execution_count": 73,
   "id": "fc82d3c1",
   "metadata": {},
   "outputs": [
    {
     "name": "stderr",
     "output_type": "stream",
     "text": [
      "C:\\Users\\SAMA1383\\AppData\\Local\\Temp/ipykernel_7520/1907388837.py:6: DeprecationWarning: find_elements_by_class_name is deprecated. Please use find_elements(by=By.CLASS_NAME, value=name) instead\n",
      "  sidebar = driver.find_elements_by_class_name('sidebar-content')[-1]\n"
     ]
    },
    {
     "name": "stdout",
     "output_type": "stream",
     "text": [
      "https://courses.ineuron.ai/category/Full-Stack-Data-Science\n",
      "https://courses.ineuron.ai/category/Machine-Learning\n",
      "https://courses.ineuron.ai/category/Deep-Learning\n",
      "https://courses.ineuron.ai/category/Computer-Vision\n",
      "https://courses.ineuron.ai/category/AIOps\n",
      "https://courses.ineuron.ai/category/Statistics\n",
      "https://courses.ineuron.ai/category/NLP\n",
      "https://courses.ineuron.ai/category/Data-Analysis\n",
      "https://courses.ineuron.ai/category/Big-Data\n"
     ]
    },
    {
     "name": "stderr",
     "output_type": "stream",
     "text": [
      "C:\\Users\\SAMA1383\\AppData\\Local\\Temp/ipykernel_7520/2092214563.py:4: DeprecationWarning: find_elements_by_class_name is deprecated. Please use find_elements(by=By.CLASS_NAME, value=name) instead\n",
      "  sidebar = driver.find_elements_by_class_name('sidebar-header')[-1]\n",
      "C:\\ProgramData\\Anaconda3\\lib\\site-packages\\selenium\\webdriver\\remote\\webelement.py:446: UserWarning: find_element_by_class_name is deprecated. Please use find_element(by=By.CLASS_NAME, value=name) instead\n",
      "  warnings.warn(\"find_element_by_class_name is deprecated. Please use find_element(by=By.CLASS_NAME, value=name) instead\")\n",
      "C:\\ProgramData\\Anaconda3\\lib\\site-packages\\selenium\\webdriver\\remote\\webelement.py:484: UserWarning: find_element_by_css_selector is deprecated. Please use find_element(by=By.CSS_SELECTOR, value=css_selector) instead\n",
      "  warnings.warn(\"find_element_by_css_selector is deprecated. Please use find_element(by=By.CSS_SELECTOR, value=css_selector) instead\")\n"
     ]
    },
    {
     "name": "stdout",
     "output_type": "stream",
     "text": [
      "https://courses.ineuron.ai/category/Web-Development\n",
      "https://courses.ineuron.ai/category/Blockchain\n",
      "https://courses.ineuron.ai/category/Mobile-Development\n",
      "https://courses.ineuron.ai/category/IoT\n",
      "https://courses.ineuron.ai/category/AR_VR\n",
      "https://courses.ineuron.ai/category/Cyber-Security\n",
      "https://courses.ineuron.ai/category/Database\n",
      "https://courses.ineuron.ai/category/AWS\n",
      "https://courses.ineuron.ai/category/GCP\n",
      "https://courses.ineuron.ai/category/Azure\n",
      "https://courses.ineuron.ai/category/Docker\n",
      "https://courses.ineuron.ai/category/Kubernetes\n",
      "https://courses.ineuron.ai/category/Ansible\n",
      "https://courses.ineuron.ai/category/GIT\n",
      "https://courses.ineuron.ai/category/Linux\n",
      "https://courses.ineuron.ai/category/Data-Structure-and-Algorithms\n",
      "https://courses.ineuron.ai/category/Python\n",
      "https://courses.ineuron.ai/category/C++\n",
      "https://courses.ineuron.ai/category/R-Programming\n",
      "https://courses.ineuron.ai/category/Golang\n",
      "https://courses.ineuron.ai/category/Julia\n",
      "https://courses.ineuron.ai/category/C-Sharp\n",
      "https://courses.ineuron.ai/category/Java\n",
      "https://courses.ineuron.ai/category/C\n",
      "https://courses.ineuron.ai/category/Digital-Marketing\n",
      "https://courses.ineuron.ai/category/Aptitude\n",
      "https://courses.ineuron.ai/category/Mathematics\n",
      "https://courses.ineuron.ai/category/Physics\n",
      "https://courses.ineuron.ai/category/Chemistry\n",
      "https://courses.ineuron.ai/category/Biology\n",
      "https://courses.ineuron.ai/category/Tech\n",
      "https://courses.ineuron.ai/category/Non-Tech\n",
      "https://courses.ineuron.ai/category/Live-Classes\n",
      "https://courses.ineuron.ai/category/ML-Community\n",
      "https://courses.ineuron.ai/category/DL-Community\n",
      "https://courses.ineuron.ai/category/NLP-Community\n",
      "https://courses.ineuron.ai/category/Data-Analytics-Community\n",
      "https://courses.ineuron.ai/category/Development-Community\n",
      "https://courses.ineuron.ai/category/DSA-Community\n",
      "https://courses.ineuron.ai/category/Digital-Marketing-Community\n",
      "https://courses.ineuron.ai/category/Salesforce-Adminstrator\n"
     ]
    }
   ],
   "source": [
    "\n",
    "\n",
    "d_href = {}\n",
    "for topic, e_li in d_li.items():\n",
    "    l_href = []\n",
    "    e_li.click()\n",
    "    time.sleep(0.5)\n",
    "    sidebar = driver.find_elements_by_class_name('sidebar-content')[-1]\n",
    "    l_a = sidebar.find_elements_by_tag_name('a')\n",
    "    for e_a in l_a:\n",
    "        print(e_a.get_attribute('href'))\n",
    "        l_href.append(e_a.get_attribute('href'))\n",
    "    d_href[topic] =  l_href   \n",
    "    back(driver)\n",
    "    time.sleep(0.5)\n",
    "    "
   ]
  },
  {
   "cell_type": "code",
   "execution_count": 74,
   "id": "e5ff97b5",
   "metadata": {},
   "outputs": [
    {
     "data": {
      "text/plain": [
       "{'Data Science': ['https://courses.ineuron.ai/category/Full-Stack-Data-Science',\n",
       "  'https://courses.ineuron.ai/category/Machine-Learning',\n",
       "  'https://courses.ineuron.ai/category/Deep-Learning',\n",
       "  'https://courses.ineuron.ai/category/Computer-Vision',\n",
       "  'https://courses.ineuron.ai/category/AIOps',\n",
       "  'https://courses.ineuron.ai/category/Statistics',\n",
       "  'https://courses.ineuron.ai/category/NLP',\n",
       "  'https://courses.ineuron.ai/category/Data-Analysis',\n",
       "  'https://courses.ineuron.ai/category/Big-Data'],\n",
       " 'Development': ['https://courses.ineuron.ai/category/Web-Development',\n",
       "  'https://courses.ineuron.ai/category/Blockchain',\n",
       "  'https://courses.ineuron.ai/category/Mobile-Development',\n",
       "  'https://courses.ineuron.ai/category/IoT',\n",
       "  'https://courses.ineuron.ai/category/AR_VR',\n",
       "  'https://courses.ineuron.ai/category/Cyber-Security',\n",
       "  'https://courses.ineuron.ai/category/Database'],\n",
       " 'Cloud': ['https://courses.ineuron.ai/category/AWS',\n",
       "  'https://courses.ineuron.ai/category/GCP',\n",
       "  'https://courses.ineuron.ai/category/Azure'],\n",
       " 'Devops': ['https://courses.ineuron.ai/category/Docker',\n",
       "  'https://courses.ineuron.ai/category/Kubernetes',\n",
       "  'https://courses.ineuron.ai/category/Ansible',\n",
       "  'https://courses.ineuron.ai/category/GIT',\n",
       "  'https://courses.ineuron.ai/category/Linux'],\n",
       " 'Programming': ['https://courses.ineuron.ai/category/Data-Structure-and-Algorithms',\n",
       "  'https://courses.ineuron.ai/category/Python',\n",
       "  'https://courses.ineuron.ai/category/C++',\n",
       "  'https://courses.ineuron.ai/category/R-Programming',\n",
       "  'https://courses.ineuron.ai/category/Golang',\n",
       "  'https://courses.ineuron.ai/category/Julia',\n",
       "  'https://courses.ineuron.ai/category/C-Sharp',\n",
       "  'https://courses.ineuron.ai/category/Java',\n",
       "  'https://courses.ineuron.ai/category/C'],\n",
       " 'Marketing': ['https://courses.ineuron.ai/category/Digital-Marketing'],\n",
       " 'Teaching & Academics': ['https://courses.ineuron.ai/category/Aptitude',\n",
       "  'https://courses.ineuron.ai/category/Mathematics',\n",
       "  'https://courses.ineuron.ai/category/Physics',\n",
       "  'https://courses.ineuron.ai/category/Chemistry',\n",
       "  'https://courses.ineuron.ai/category/Biology'],\n",
       " 'Kids': ['https://courses.ineuron.ai/category/Tech',\n",
       "  'https://courses.ineuron.ai/category/Non-Tech'],\n",
       " 'Community Courses': ['https://courses.ineuron.ai/category/Live-Classes',\n",
       "  'https://courses.ineuron.ai/category/ML-Community',\n",
       "  'https://courses.ineuron.ai/category/DL-Community',\n",
       "  'https://courses.ineuron.ai/category/NLP-Community',\n",
       "  'https://courses.ineuron.ai/category/Data-Analytics-Community',\n",
       "  'https://courses.ineuron.ai/category/Development-Community',\n",
       "  'https://courses.ineuron.ai/category/DSA-Community',\n",
       "  'https://courses.ineuron.ai/category/Digital-Marketing-Community'],\n",
       " 'Salesforce': ['https://courses.ineuron.ai/category/Salesforce-Adminstrator']}"
      ]
     },
     "execution_count": 74,
     "metadata": {},
     "output_type": "execute_result"
    }
   ],
   "source": [
    "d_href\n"
   ]
  },
  {
   "cell_type": "code",
   "execution_count": 132,
   "id": "8c337171",
   "metadata": {},
   "outputs": [
    {
     "name": "stdout",
     "output_type": "stream",
     "text": [
      "https://courses.ineuron.ai/category/Full-Stack-Data-Science\n"
     ]
    },
    {
     "name": "stderr",
     "output_type": "stream",
     "text": [
      "C:\\Users\\SAMA1383\\AppData\\Local\\Temp/ipykernel_7520/949527187.py:5: DeprecationWarning: executable_path has been deprecated, please pass in a Service object\n",
      "  driver = webdriver.Chrome(executable_path=driver_path)\n"
     ]
    }
   ],
   "source": [
    "d_course_link = {}\n",
    "#for topic, topic_link in d_href.items():\n",
    "first_topic = list(d_href.values())[0][0]\n",
    "print(first_topic)\n",
    "driver = webdriver.Chrome(executable_path=driver_path)\n",
    "driver.get(first_topic)\n"
   ]
  },
  {
   "cell_type": "code",
   "execution_count": 133,
   "id": "f3cb57df",
   "metadata": {},
   "outputs": [],
   "source": [
    "driver.execute_script(\"window.scrollTo(0, document.body.scrollHeight);\")"
   ]
  },
  {
   "cell_type": "code",
   "execution_count": null,
   "id": "d98f9604",
   "metadata": {},
   "outputs": [],
   "source": []
  },
  {
   "cell_type": "code",
   "execution_count": 134,
   "id": "e30b432e",
   "metadata": {},
   "outputs": [
    {
     "name": "stderr",
     "output_type": "stream",
     "text": [
      "C:\\Users\\SAMA1383\\AppData\\Local\\Temp/ipykernel_7520/3930784458.py:1: DeprecationWarning: find_elements_by_class_name is deprecated. Please use find_elements(by=By.CLASS_NAME, value=name) instead\n",
      "  course_card = driver.find_elements_by_class_name('AllCoursesMobile_course-filter-mobile__2TQT1')\n"
     ]
    }
   ],
   "source": [
    "course_card = driver.find_elements_by_class_name('AllCoursesMobile_course-filter-mobile__2TQT1')"
   ]
  },
  {
   "cell_type": "code",
   "execution_count": null,
   "id": "2f29f4f0",
   "metadata": {},
   "outputs": [],
   "source": []
  },
  {
   "cell_type": "code",
   "execution_count": 135,
   "id": "58e301ea",
   "metadata": {},
   "outputs": [
    {
     "name": "stderr",
     "output_type": "stream",
     "text": [
      "C:\\ProgramData\\Anaconda3\\lib\\site-packages\\selenium\\webdriver\\remote\\webelement.py:359: UserWarning: find_elements_by_tag_name is deprecated. Please use find_elements(by=By.TAG_NAME, value=name) instead\n",
      "  warnings.warn(\"find_elements_by_tag_name is deprecated. Please use find_elements(by=By.TAG_NAME, value=name) instead\")\n"
     ]
    }
   ],
   "source": [
    "course_list = course_card[0].find_elements_by_tag_name('a')"
   ]
  },
  {
   "cell_type": "code",
   "execution_count": 136,
   "id": "1436f7e2",
   "metadata": {},
   "outputs": [
    {
     "data": {
      "text/plain": [
       "[<selenium.webdriver.remote.webelement.WebElement (session=\"160a6dc077eba8e4ee866369c73b2516\", element=\"eae58761-c702-4aff-9deb-d22c9e716c0c\")>,\n",
       " <selenium.webdriver.remote.webelement.WebElement (session=\"160a6dc077eba8e4ee866369c73b2516\", element=\"8e0e1c60-617e-4de9-975c-f2184a64f8be\")>,\n",
       " <selenium.webdriver.remote.webelement.WebElement (session=\"160a6dc077eba8e4ee866369c73b2516\", element=\"9d3edf02-b8e7-4a0f-b092-8a9773ca20a0\")>,\n",
       " <selenium.webdriver.remote.webelement.WebElement (session=\"160a6dc077eba8e4ee866369c73b2516\", element=\"f60c05e7-75ed-41ea-a8b7-f6fd9c5f0088\")>,\n",
       " <selenium.webdriver.remote.webelement.WebElement (session=\"160a6dc077eba8e4ee866369c73b2516\", element=\"c211671a-0d96-44e8-abcd-241b45d4fd81\")>,\n",
       " <selenium.webdriver.remote.webelement.WebElement (session=\"160a6dc077eba8e4ee866369c73b2516\", element=\"06a1c8e8-6b6f-438c-8ee3-193578b7ce98\")>,\n",
       " <selenium.webdriver.remote.webelement.WebElement (session=\"160a6dc077eba8e4ee866369c73b2516\", element=\"53aee19d-f72d-4ff4-ad7d-e919ff223b88\")>,\n",
       " <selenium.webdriver.remote.webelement.WebElement (session=\"160a6dc077eba8e4ee866369c73b2516\", element=\"0236daed-1b93-443a-87a1-cbf93634204b\")>]"
      ]
     },
     "execution_count": 136,
     "metadata": {},
     "output_type": "execute_result"
    }
   ],
   "source": [
    "course_list"
   ]
  },
  {
   "cell_type": "code",
   "execution_count": 137,
   "id": "a14bc7da",
   "metadata": {},
   "outputs": [
    {
     "name": "stderr",
     "output_type": "stream",
     "text": [
      "C:\\ProgramData\\Anaconda3\\lib\\site-packages\\selenium\\webdriver\\remote\\webelement.py:341: UserWarning: find_element_by_tag_name is deprecated. Please use find_element(by=By.TAG_NAME, value=name) instead\n",
      "  warnings.warn(\"find_element_by_tag_name is deprecated. Please use find_element(by=By.TAG_NAME, value=name) instead\")\n"
     ]
    },
    {
     "name": "stdout",
     "output_type": "stream",
     "text": [
      "Full Stack Data Science Bootcamp\n",
      "Architecture and System Design Live Class\n",
      "FullStack Developer Interview Preparation Live Class\n",
      "Data Science Masters\n",
      "Full Stack Data Science\n",
      "Full Stack Data Science Nov'21 Batch\n",
      "Full Stack Data Science Feb'21 Batch\n",
      "DSAR\n"
     ]
    }
   ],
   "source": [
    "import os\n",
    "d_course_link = {}\n",
    "for e_course in course_list:\n",
    "    path = e_course.get_attribute('href')\n",
    "    h5 = e_course.find_element_by_tag_name('h5')\n",
    "    print(h5.get_attribute('textContent'))\n",
    "    d_course_link[h5.get_attribute('textContent')] = path"
   ]
  },
  {
   "cell_type": "code",
   "execution_count": 138,
   "id": "6571f936",
   "metadata": {},
   "outputs": [
    {
     "data": {
      "text/plain": [
       "{'Full Stack Data Science Bootcamp': 'https://courses.ineuron.ai/Full-Stack-Data-Science-Bootcamp',\n",
       " 'Architecture and System Design Live Class': 'https://courses.ineuron.ai/Architecture-and-System-Design-Live-Class',\n",
       " 'FullStack Developer Interview Preparation Live Class': 'https://courses.ineuron.ai/FullStack-Developer-Interview-Preparation-Live-Class',\n",
       " 'Data Science Masters': 'https://courses.ineuron.ai/Data-Science-Masters',\n",
       " 'Full Stack Data Science': 'https://courses.ineuron.ai/Full-Stack-Data-Science',\n",
       " \"Full Stack Data Science Nov'21 Batch\": \"https://courses.ineuron.ai/Full-Stack-Data-Science-Nov'21-Batch\",\n",
       " \"Full Stack Data Science Feb'21 Batch\": \"https://courses.ineuron.ai/Full-Stack-Data-Science-Feb'21-Batch\",\n",
       " 'DSAR': 'https://courses.ineuron.ai/DSAR'}"
      ]
     },
     "execution_count": 138,
     "metadata": {},
     "output_type": "execute_result"
    }
   ],
   "source": [
    "d_course_link"
   ]
  },
  {
   "cell_type": "code",
   "execution_count": 139,
   "id": "e6a4f419",
   "metadata": {},
   "outputs": [],
   "source": [
    "course1 = list(d_course_link.values())[0]"
   ]
  },
  {
   "cell_type": "code",
   "execution_count": 140,
   "id": "3bb05e7a",
   "metadata": {},
   "outputs": [
    {
     "data": {
      "text/plain": [
       "'https://courses.ineuron.ai/Full-Stack-Data-Science-Bootcamp'"
      ]
     },
     "execution_count": 140,
     "metadata": {},
     "output_type": "execute_result"
    }
   ],
   "source": [
    "course1"
   ]
  },
  {
   "cell_type": "code",
   "execution_count": 141,
   "id": "7f570b67",
   "metadata": {},
   "outputs": [],
   "source": [
    "driver.get(course1)"
   ]
  },
  {
   "cell_type": "code",
   "execution_count": 126,
   "id": "dae818ee",
   "metadata": {},
   "outputs": [
    {
     "data": {
      "text/plain": [
       "'https://courses.ineuron.ai/category/Full-Stack-Data-Science'"
      ]
     },
     "execution_count": 126,
     "metadata": {},
     "output_type": "execute_result"
    }
   ],
   "source": [
    "course1\n"
   ]
  },
  {
   "cell_type": "code",
   "execution_count": 144,
   "id": "5f2b28b4",
   "metadata": {},
   "outputs": [],
   "source": [
    "def close_popup(driver, class_name):\n",
    "#     class_name = 'Modal_modal-content-md__ogBrj card'\n",
    "    popup = driver.find_element_by_class_name('Modal_modal-content-md__ogBrj card')\n",
    "    cross = popup.find_element_by_css_selector('i')\n",
    "    cross.click()\n",
    "    time.sleep(2)"
   ]
  },
  {
   "cell_type": "code",
   "execution_count": 146,
   "id": "daa7fbcd",
   "metadata": {},
   "outputs": [
    {
     "name": "stderr",
     "output_type": "stream",
     "text": [
      "C:\\Users\\SAMA1383\\AppData\\Local\\Temp/ipykernel_7520/3731094670.py:3: DeprecationWarning: find_element_by_class_name is deprecated. Please use find_element(by=By.CLASS_NAME, value=name) instead\n",
      "  popup = driver.find_element_by_class_name('Modal_modal-content-md__ogBrj card')\n"
     ]
    },
    {
     "ename": "NoSuchElementException",
     "evalue": "Message: no such element: Unable to locate element: {\"method\":\"css selector\",\"selector\":\".Modal_modal-content-md__ogBrj card\"}\n  (Session info: chrome=100.0.4896.75)\nStacktrace:\nBacktrace:\n\tOrdinal0 [0x00D07413+2389011]\n\tOrdinal0 [0x00C99F61+1941345]\n\tOrdinal0 [0x00B8C658+837208]\n\tOrdinal0 [0x00BB91DD+1020381]\n\tOrdinal0 [0x00BB949B+1021083]\n\tOrdinal0 [0x00BE6032+1204274]\n\tOrdinal0 [0x00BD4194+1130900]\n\tOrdinal0 [0x00BE4302+1196802]\n\tOrdinal0 [0x00BD3F66+1130342]\n\tOrdinal0 [0x00BAE546+976198]\n\tOrdinal0 [0x00BAF456+980054]\n\tGetHandleVerifier [0x00EB9632+1727522]\n\tGetHandleVerifier [0x00F6BA4D+2457661]\n\tGetHandleVerifier [0x00D9EB81+569713]\n\tGetHandleVerifier [0x00D9DD76+566118]\n\tOrdinal0 [0x00CA0B2B+1968939]\n\tOrdinal0 [0x00CA5988+1989000]\n\tOrdinal0 [0x00CA5A75+1989237]\n\tOrdinal0 [0x00CAECB1+2026673]\n\tBaseThreadInitThunk [0x76A06359+25]\n\tRtlGetAppContainerNamedObjectPath [0x77B47B74+228]\n\tRtlGetAppContainerNamedObjectPath [0x77B47B44+180]\n",
     "output_type": "error",
     "traceback": [
      "\u001b[1;31m---------------------------------------------------------------------------\u001b[0m",
      "\u001b[1;31mNoSuchElementException\u001b[0m                    Traceback (most recent call last)",
      "\u001b[1;32m~\\AppData\\Local\\Temp/ipykernel_7520/1506882171.py\u001b[0m in \u001b[0;36m<module>\u001b[1;34m\u001b[0m\n\u001b[0;32m      1\u001b[0m \u001b[0mclass_name\u001b[0m \u001b[1;33m=\u001b[0m \u001b[1;34m'Modal_modal-content-md__ogBrj card'\u001b[0m\u001b[1;33m\u001b[0m\u001b[1;33m\u001b[0m\u001b[0m\n\u001b[1;32m----> 2\u001b[1;33m \u001b[0mclose_popup\u001b[0m\u001b[1;33m(\u001b[0m\u001b[0mdriver\u001b[0m\u001b[1;33m,\u001b[0m \u001b[0mclass_name\u001b[0m\u001b[1;33m)\u001b[0m\u001b[1;33m\u001b[0m\u001b[1;33m\u001b[0m\u001b[0m\n\u001b[0m",
      "\u001b[1;32m~\\AppData\\Local\\Temp/ipykernel_7520/3731094670.py\u001b[0m in \u001b[0;36mclose_popup\u001b[1;34m(driver, class_name)\u001b[0m\n\u001b[0;32m      1\u001b[0m \u001b[1;32mdef\u001b[0m \u001b[0mclose_popup\u001b[0m\u001b[1;33m(\u001b[0m\u001b[0mdriver\u001b[0m\u001b[1;33m,\u001b[0m \u001b[0mclass_name\u001b[0m\u001b[1;33m)\u001b[0m\u001b[1;33m:\u001b[0m\u001b[1;33m\u001b[0m\u001b[1;33m\u001b[0m\u001b[0m\n\u001b[0;32m      2\u001b[0m \u001b[1;31m#     class_name = 'Modal_modal-content-md__ogBrj card'\u001b[0m\u001b[1;33m\u001b[0m\u001b[1;33m\u001b[0m\u001b[0m\n\u001b[1;32m----> 3\u001b[1;33m     \u001b[0mpopup\u001b[0m \u001b[1;33m=\u001b[0m \u001b[0mdriver\u001b[0m\u001b[1;33m.\u001b[0m\u001b[0mfind_element_by_class_name\u001b[0m\u001b[1;33m(\u001b[0m\u001b[1;34m'Modal_modal-content-md__ogBrj card'\u001b[0m\u001b[1;33m)\u001b[0m\u001b[1;33m\u001b[0m\u001b[1;33m\u001b[0m\u001b[0m\n\u001b[0m\u001b[0;32m      4\u001b[0m     \u001b[0mcross\u001b[0m \u001b[1;33m=\u001b[0m \u001b[0mpopup\u001b[0m\u001b[1;33m.\u001b[0m\u001b[0mfind_element_by_css_selector\u001b[0m\u001b[1;33m(\u001b[0m\u001b[1;34m'i'\u001b[0m\u001b[1;33m)\u001b[0m\u001b[1;33m\u001b[0m\u001b[1;33m\u001b[0m\u001b[0m\n\u001b[0;32m      5\u001b[0m     \u001b[0mcross\u001b[0m\u001b[1;33m.\u001b[0m\u001b[0mclick\u001b[0m\u001b[1;33m(\u001b[0m\u001b[1;33m)\u001b[0m\u001b[1;33m\u001b[0m\u001b[1;33m\u001b[0m\u001b[0m\n",
      "\u001b[1;32mC:\\ProgramData\\Anaconda3\\lib\\site-packages\\selenium\\webdriver\\remote\\webdriver.py\u001b[0m in \u001b[0;36mfind_element_by_class_name\u001b[1;34m(self, name)\u001b[0m\n\u001b[0;32m    759\u001b[0m             \u001b[0mstacklevel\u001b[0m\u001b[1;33m=\u001b[0m\u001b[1;36m2\u001b[0m\u001b[1;33m,\u001b[0m\u001b[1;33m\u001b[0m\u001b[1;33m\u001b[0m\u001b[0m\n\u001b[0;32m    760\u001b[0m         )\n\u001b[1;32m--> 761\u001b[1;33m         \u001b[1;32mreturn\u001b[0m \u001b[0mself\u001b[0m\u001b[1;33m.\u001b[0m\u001b[0mfind_element\u001b[0m\u001b[1;33m(\u001b[0m\u001b[0mby\u001b[0m\u001b[1;33m=\u001b[0m\u001b[0mBy\u001b[0m\u001b[1;33m.\u001b[0m\u001b[0mCLASS_NAME\u001b[0m\u001b[1;33m,\u001b[0m \u001b[0mvalue\u001b[0m\u001b[1;33m=\u001b[0m\u001b[0mname\u001b[0m\u001b[1;33m)\u001b[0m\u001b[1;33m\u001b[0m\u001b[1;33m\u001b[0m\u001b[0m\n\u001b[0m\u001b[0;32m    762\u001b[0m \u001b[1;33m\u001b[0m\u001b[0m\n\u001b[0;32m    763\u001b[0m     \u001b[1;32mdef\u001b[0m \u001b[0mfind_elements_by_class_name\u001b[0m\u001b[1;33m(\u001b[0m\u001b[0mself\u001b[0m\u001b[1;33m,\u001b[0m \u001b[0mname\u001b[0m\u001b[1;33m)\u001b[0m \u001b[1;33m->\u001b[0m \u001b[0mList\u001b[0m\u001b[1;33m[\u001b[0m\u001b[0mWebElement\u001b[0m\u001b[1;33m]\u001b[0m\u001b[1;33m:\u001b[0m\u001b[1;33m\u001b[0m\u001b[1;33m\u001b[0m\u001b[0m\n",
      "\u001b[1;32mC:\\ProgramData\\Anaconda3\\lib\\site-packages\\selenium\\webdriver\\remote\\webdriver.py\u001b[0m in \u001b[0;36mfind_element\u001b[1;34m(self, by, value)\u001b[0m\n\u001b[0;32m   1246\u001b[0m             \u001b[0mvalue\u001b[0m \u001b[1;33m=\u001b[0m \u001b[1;34m'[name=\"%s\"]'\u001b[0m \u001b[1;33m%\u001b[0m \u001b[0mvalue\u001b[0m\u001b[1;33m\u001b[0m\u001b[1;33m\u001b[0m\u001b[0m\n\u001b[0;32m   1247\u001b[0m \u001b[1;33m\u001b[0m\u001b[0m\n\u001b[1;32m-> 1248\u001b[1;33m         return self.execute(Command.FIND_ELEMENT, {\n\u001b[0m\u001b[0;32m   1249\u001b[0m             \u001b[1;34m'using'\u001b[0m\u001b[1;33m:\u001b[0m \u001b[0mby\u001b[0m\u001b[1;33m,\u001b[0m\u001b[1;33m\u001b[0m\u001b[1;33m\u001b[0m\u001b[0m\n\u001b[0;32m   1250\u001b[0m             'value': value})['value']\n",
      "\u001b[1;32mC:\\ProgramData\\Anaconda3\\lib\\site-packages\\selenium\\webdriver\\remote\\webdriver.py\u001b[0m in \u001b[0;36mexecute\u001b[1;34m(self, driver_command, params)\u001b[0m\n\u001b[0;32m    423\u001b[0m         \u001b[0mresponse\u001b[0m \u001b[1;33m=\u001b[0m \u001b[0mself\u001b[0m\u001b[1;33m.\u001b[0m\u001b[0mcommand_executor\u001b[0m\u001b[1;33m.\u001b[0m\u001b[0mexecute\u001b[0m\u001b[1;33m(\u001b[0m\u001b[0mdriver_command\u001b[0m\u001b[1;33m,\u001b[0m \u001b[0mparams\u001b[0m\u001b[1;33m)\u001b[0m\u001b[1;33m\u001b[0m\u001b[1;33m\u001b[0m\u001b[0m\n\u001b[0;32m    424\u001b[0m         \u001b[1;32mif\u001b[0m \u001b[0mresponse\u001b[0m\u001b[1;33m:\u001b[0m\u001b[1;33m\u001b[0m\u001b[1;33m\u001b[0m\u001b[0m\n\u001b[1;32m--> 425\u001b[1;33m             \u001b[0mself\u001b[0m\u001b[1;33m.\u001b[0m\u001b[0merror_handler\u001b[0m\u001b[1;33m.\u001b[0m\u001b[0mcheck_response\u001b[0m\u001b[1;33m(\u001b[0m\u001b[0mresponse\u001b[0m\u001b[1;33m)\u001b[0m\u001b[1;33m\u001b[0m\u001b[1;33m\u001b[0m\u001b[0m\n\u001b[0m\u001b[0;32m    426\u001b[0m             response['value'] = self._unwrap_value(\n\u001b[0;32m    427\u001b[0m                 response.get('value', None))\n",
      "\u001b[1;32mC:\\ProgramData\\Anaconda3\\lib\\site-packages\\selenium\\webdriver\\remote\\errorhandler.py\u001b[0m in \u001b[0;36mcheck_response\u001b[1;34m(self, response)\u001b[0m\n\u001b[0;32m    245\u001b[0m                 \u001b[0malert_text\u001b[0m \u001b[1;33m=\u001b[0m \u001b[0mvalue\u001b[0m\u001b[1;33m[\u001b[0m\u001b[1;34m'alert'\u001b[0m\u001b[1;33m]\u001b[0m\u001b[1;33m.\u001b[0m\u001b[0mget\u001b[0m\u001b[1;33m(\u001b[0m\u001b[1;34m'text'\u001b[0m\u001b[1;33m)\u001b[0m\u001b[1;33m\u001b[0m\u001b[1;33m\u001b[0m\u001b[0m\n\u001b[0;32m    246\u001b[0m             \u001b[1;32mraise\u001b[0m \u001b[0mexception_class\u001b[0m\u001b[1;33m(\u001b[0m\u001b[0mmessage\u001b[0m\u001b[1;33m,\u001b[0m \u001b[0mscreen\u001b[0m\u001b[1;33m,\u001b[0m \u001b[0mstacktrace\u001b[0m\u001b[1;33m,\u001b[0m \u001b[0malert_text\u001b[0m\u001b[1;33m)\u001b[0m  \u001b[1;31m# type: ignore[call-arg]  # mypy is not smart enough here\u001b[0m\u001b[1;33m\u001b[0m\u001b[1;33m\u001b[0m\u001b[0m\n\u001b[1;32m--> 247\u001b[1;33m         \u001b[1;32mraise\u001b[0m \u001b[0mexception_class\u001b[0m\u001b[1;33m(\u001b[0m\u001b[0mmessage\u001b[0m\u001b[1;33m,\u001b[0m \u001b[0mscreen\u001b[0m\u001b[1;33m,\u001b[0m \u001b[0mstacktrace\u001b[0m\u001b[1;33m)\u001b[0m\u001b[1;33m\u001b[0m\u001b[1;33m\u001b[0m\u001b[0m\n\u001b[0m\u001b[0;32m    248\u001b[0m \u001b[1;33m\u001b[0m\u001b[0m\n\u001b[0;32m    249\u001b[0m     \u001b[1;32mdef\u001b[0m \u001b[0m_value_or_default\u001b[0m\u001b[1;33m(\u001b[0m\u001b[0mself\u001b[0m\u001b[1;33m,\u001b[0m \u001b[0mobj\u001b[0m\u001b[1;33m:\u001b[0m \u001b[0mMapping\u001b[0m\u001b[1;33m[\u001b[0m\u001b[0m_KT\u001b[0m\u001b[1;33m,\u001b[0m \u001b[0m_VT\u001b[0m\u001b[1;33m]\u001b[0m\u001b[1;33m,\u001b[0m \u001b[0mkey\u001b[0m\u001b[1;33m:\u001b[0m \u001b[0m_KT\u001b[0m\u001b[1;33m,\u001b[0m \u001b[0mdefault\u001b[0m\u001b[1;33m:\u001b[0m \u001b[0m_VT\u001b[0m\u001b[1;33m)\u001b[0m \u001b[1;33m->\u001b[0m \u001b[0m_VT\u001b[0m\u001b[1;33m:\u001b[0m\u001b[1;33m\u001b[0m\u001b[1;33m\u001b[0m\u001b[0m\n",
      "\u001b[1;31mNoSuchElementException\u001b[0m: Message: no such element: Unable to locate element: {\"method\":\"css selector\",\"selector\":\".Modal_modal-content-md__ogBrj card\"}\n  (Session info: chrome=100.0.4896.75)\nStacktrace:\nBacktrace:\n\tOrdinal0 [0x00D07413+2389011]\n\tOrdinal0 [0x00C99F61+1941345]\n\tOrdinal0 [0x00B8C658+837208]\n\tOrdinal0 [0x00BB91DD+1020381]\n\tOrdinal0 [0x00BB949B+1021083]\n\tOrdinal0 [0x00BE6032+1204274]\n\tOrdinal0 [0x00BD4194+1130900]\n\tOrdinal0 [0x00BE4302+1196802]\n\tOrdinal0 [0x00BD3F66+1130342]\n\tOrdinal0 [0x00BAE546+976198]\n\tOrdinal0 [0x00BAF456+980054]\n\tGetHandleVerifier [0x00EB9632+1727522]\n\tGetHandleVerifier [0x00F6BA4D+2457661]\n\tGetHandleVerifier [0x00D9EB81+569713]\n\tGetHandleVerifier [0x00D9DD76+566118]\n\tOrdinal0 [0x00CA0B2B+1968939]\n\tOrdinal0 [0x00CA5988+1989000]\n\tOrdinal0 [0x00CA5A75+1989237]\n\tOrdinal0 [0x00CAECB1+2026673]\n\tBaseThreadInitThunk [0x76A06359+25]\n\tRtlGetAppContainerNamedObjectPath [0x77B47B74+228]\n\tRtlGetAppContainerNamedObjectPath [0x77B47B44+180]\n"
     ]
    }
   ],
   "source": [
    "class_name = 'Modal_modal-content-md__ogBrj card'\n",
    "close_popup(driver, class_name)"
   ]
  },
  {
   "cell_type": "code",
   "execution_count": null,
   "id": "027c6615",
   "metadata": {},
   "outputs": [],
   "source": []
  }
 ],
 "metadata": {
  "kernelspec": {
   "display_name": "Python 3 (ipykernel)",
   "language": "python",
   "name": "python3"
  },
  "language_info": {
   "codemirror_mode": {
    "name": "ipython",
    "version": 3
   },
   "file_extension": ".py",
   "mimetype": "text/x-python",
   "name": "python",
   "nbconvert_exporter": "python",
   "pygments_lexer": "ipython3",
   "version": "3.9.7"
  }
 },
 "nbformat": 4,
 "nbformat_minor": 5
}
